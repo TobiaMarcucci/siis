{
 "cells": [
  {
   "cell_type": "code",
   "execution_count": null,
   "metadata": {},
   "outputs": [],
   "source": [
    "# notebook settings\n",
    "%load_ext autoreload\n",
    "%autoreload 2\n",
    "# %matplotlib notebook"
   ]
  },
  {
   "cell_type": "code",
   "execution_count": null,
   "metadata": {},
   "outputs": [],
   "source": [
    "# others\n",
    "import numpy as np\n",
    "\n",
    "# drake\n",
    "from pydrake.geometry import SceneGraph\n",
    "from pydrake.multibody.plant import AddMultibodyPlantSceneGraph\n",
    "from pydrake.multibody.tree import UniformGravityFieldElement\n",
    "from pydrake.multibody.plant import MultibodyPlant\n",
    "from pydrake.multibody.parsing import Parser\n",
    "from pydrake.systems.framework import DiagramBuilder, BasicVector\n",
    "from pydrake.systems.analysis import Simulator\n",
    "from pydrake.systems.meshcat_visualizer import MeshcatVisualizer\n",
    "from pydrake.systems.drawing import plot_system_graphviz\n",
    "\n",
    "# hand-written controller\n",
    "from controller import Controller"
   ]
  },
  {
   "cell_type": "code",
   "execution_count": null,
   "metadata": {},
   "outputs": [],
   "source": [
    "builder = DiagramBuilder()\n",
    "pusher_slider, scene_graph = AddMultibodyPlantSceneGraph(\n",
    "    builder,\n",
    "    MultibodyPlant(time_step=0.0003)\n",
    ")\n",
    "parser = Parser(plant=pusher_slider)\n",
    "parser.AddModelFromFile(\"ground.urdf\")\n",
    "parser.AddModelFromFile(\"pusher.urdf\")\n",
    "parser.AddModelFromFile(\"slider.urdf\")\n",
    "# gravity = UniformGravityFieldElement(np.array([0,0,-9.81]))\n",
    "# pusher_slider.AddForceElement(gravity)\n",
    "ground = pusher_slider.GetFrameByName('ground_link')\n",
    "pusher_origin = pusher_slider.GetFrameByName('pusher_x')\n",
    "world = pusher_slider.world_frame()\n",
    "pusher_slider.WeldFrames(world, ground)\n",
    "pusher_slider.WeldFrames(world, pusher_origin)\n",
    "pusher_slider.Finalize()"
   ]
  },
  {
   "cell_type": "code",
   "execution_count": null,
   "metadata": {},
   "outputs": [],
   "source": [
    "controller = builder.AddSystem(Controller(pusher_slider))\n",
    "builder.Connect(\n",
    "    pusher_slider.get_state_output_port(),\n",
    "    controller.get_input_port(0)\n",
    ")\n",
    "builder.Connect(\n",
    "    controller.get_output_port(0),\n",
    "    pusher_slider.get_actuation_input_port()\n",
    ")"
   ]
  },
  {
   "cell_type": "code",
   "execution_count": null,
   "metadata": {},
   "outputs": [],
   "source": [
    "# first, from terminal: meshcat-server\n",
    "visualizer = builder.AddSystem(\n",
    "    MeshcatVisualizer(scene_graph)\n",
    ")\n",
    "builder.Connect(\n",
    "    scene_graph.get_pose_bundle_output_port(),\n",
    "    visualizer.get_input_port(0)\n",
    ")\n",
    "diagram = builder.Build()"
   ]
  },
  {
   "cell_type": "code",
   "execution_count": null,
   "metadata": {},
   "outputs": [],
   "source": [
    "import matplotlib as mpl\n",
    "import matplotlib.pyplot as plt\n",
    "mpl.rcParams['figure.dpi'] = 300\n",
    "plot_system_graphviz(diagram)\n",
    "plt.show()"
   ]
  },
  {
   "cell_type": "code",
   "execution_count": null,
   "metadata": {},
   "outputs": [],
   "source": [
    "for i in range(10,20):\n",
    "    print(i)\n",
    "    np.random.seed(i)\n",
    "    diagram_context = diagram.CreateDefaultContext()\n",
    "    pusher_slider_context = diagram.GetMutableSubsystemContext(pusher_slider, diagram_context)\n",
    "    l = 1.5\n",
    "    x, y = np.random.rand(2)*2*l - l*np.ones(2)\n",
    "    theta = np.random.rand(1)*2*np.pi\n",
    "    q0 = np.array([\n",
    "        np.cos(theta/2), 0, 0, np.sin(theta/2), # quaternions slider\n",
    "        x, y, .1, # translation slider\n",
    "        2.5, 2.5 # translation pusher\n",
    "    ])\n",
    "    v0 = np.array([0,0,0,0,0,0,0,0])\n",
    "    x0 = np.concatenate((q0, v0))\n",
    "    pusher_slider.SetPositionsAndVelocities(pusher_slider_context, x0)\n",
    "\n",
    "    simulator = Simulator(diagram, diagram_context)\n",
    "    simulator.set_target_realtime_rate(1.0)\n",
    "    # simulator.set_publish_every_time_step(False)\n",
    "    simulator.Initialize()\n",
    "    simulator.StepTo(5)"
   ]
  }
 ],
 "metadata": {
  "kernelspec": {
   "display_name": "Python 3",
   "language": "python",
   "name": "python3"
  },
  "language_info": {
   "codemirror_mode": {
    "name": "ipython",
    "version": 3
   },
   "file_extension": ".py",
   "mimetype": "text/x-python",
   "name": "python",
   "nbconvert_exporter": "python",
   "pygments_lexer": "ipython3",
   "version": "3.7.4"
  }
 },
 "nbformat": 4,
 "nbformat_minor": 2
}
